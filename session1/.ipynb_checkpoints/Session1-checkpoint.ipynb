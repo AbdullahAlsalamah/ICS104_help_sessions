{
 "cells": [
  {
   "cell_type": "markdown",
   "metadata": {},
   "source": [
    "<h1>Ch1</h1>"
   ]
  },
  {
   "cell_type": "markdown",
   "metadata": {},
   "source": [
    "<h3>Q1: Select from the following codes the ones will give an error (there might be more than one)</h3>\n",
    "<ul>\n",
    "    <li>print(\"Hello, world\")</li>\n",
    "    <li>print(\"Hello, world')</li>\n",
    "    <li>print(\"Hello, world\")</li>\n",
    "    <li>print('Hello, 'world'')</li>\n",
    "</ul>    "
   ]
  },
  {
   "cell_type": "markdown",
   "metadata": {},
   "source": [
    "<h3>Q2: Select from the following codes the ones will give an error (there might be more than one)</h3>\n",
    "<ul>\n",
    "    <li>print(\"Abdullah's Book\")</li>\n",
    "    <li>print(\"Hello, Word!\")</li>\n",
    "    <li>print(1/(5-5))</li>\n",
    "    <li>print(Abdullah's Book)</li>\n",
    "</ul>    "
   ]
  },
  {
   "cell_type": "markdown",
   "metadata": {},
   "source": [
    "<h3>Q3: What is the output of the following code</h3>\n",
    "<p>print(\"The answer is\", '5' + '3', \"!\")</p>\n",
    "<ul>\n",
    "    <li>The answer is 53 !</li>\n",
    "    <li>The answer is 8 !</li>\n",
    "    <li>The answer is 8!</li>\n",
    "    <li>Error</li>\n",
    "</ul>    "
   ]
  },
  {
   "cell_type": "markdown",
   "metadata": {},
   "source": [
    "<h3>Q4: What is the output of the following code</h3>\n",
    "<p>min((len(\"World.\"), 7, abs(-10), abs(-7), abs(-6), 8))</p>\n",
    "<ul>\n",
    "    <li>5</li>\n",
    "    <li>6</li>\n",
    "    <li>7</li>\n",
    "    <li>-10</li>    \n",
    "    <li>8</li>\n",
    "\n",
    "</ul>    "
   ]
  },
  {
   "cell_type": "markdown",
   "metadata": {},
   "source": [
    "<h3>Q5: What is the expected output</h3>\n",
    "<br>\n",
    "x = '5'\n",
    "<br>\n",
    "x += '3'\n",
    "<br>\n",
    "print(x)\n",
    "<ul>\n",
    "    <li>53</li>\n",
    "    <li>8</li>\n",
    "    <li>Error</li>\n",
    "    <li>35</li>\n",
    "</ul>"
   ]
  },
  {
   "cell_type": "markdown",
   "metadata": {},
   "source": [
    "<h3>Q6: What is the expected output</h3>\n",
    "<br>\n",
    "x = 3\n",
    "<br>\n",
    "x = x*1.0\n",
    "<br>\n",
    "print(x)\n",
    "<ul>\n",
    "    <li>3</li>\n",
    "    <li>3.0</li>\n",
    "    <li>0</li>\n",
    "    <li>Error</li>\n",
    "</ul>"
   ]
  },
  {
   "cell_type": "markdown",
   "metadata": {},
   "source": [
    "<h3>Q7: What is the expected output</h3>\n",
    "<br>\n",
    "print(1E6)\n",
    "<ul>\n",
    "    <li>1000000</li>\n",
    "    <li>1E6</li>\n",
    "    <li>1000000.0</li>\n",
    "    <li>Error</li>\n",
    "</ul>"
   ]
  },
  {
   "cell_type": "markdown",
   "metadata": {},
   "source": [
    "<h3>Q8: What is the expected output</h3>\n",
    "<br>\n",
    "print(100,000)\n",
    "<ul>\n",
    "    <li>100000</li>\n",
    "    <li>100,000</li>\n",
    "    <li>100 0</li>\n",
    "    <li>Error</li>\n",
    "</ul>"
   ]
  },
  {
   "cell_type": "markdown",
   "metadata": {},
   "source": [
    "<h3>Q9: What is the expected output</h3>\n",
    "<br>\n",
    "print(100,010)\n",
    "<ul>\n",
    "    <li>100010</li>\n",
    "    <li>100,010</li>\n",
    "    <li>100 10</li>\n",
    "    <li>Error</li>\n",
    "</ul>"
   ]
  },
  {
   "cell_type": "markdown",
   "metadata": {},
   "source": [
    "<h3>Q10: What is the expected output</h3>\n",
    "<br>\n",
    "print(3/(3/2))\n",
    "<ul>\n",
    "    <li>2</li>\n",
    "    <li>2.0</li>\n",
    "    <li>0.5</li>\n",
    "    <li>3</li>\n",
    "    <li>Error</li>\n",
    "</ul>"
   ]
  },
  {
   "cell_type": "code",
   "execution_count": null,
   "metadata": {},
   "outputs": [],
   "source": []
  }
 ],
 "metadata": {
  "kernelspec": {
   "display_name": "Python 3",
   "language": "python",
   "name": "python3"
  },
  "language_info": {
   "codemirror_mode": {
    "name": "ipython",
    "version": 3
   },
   "file_extension": ".py",
   "mimetype": "text/x-python",
   "name": "python",
   "nbconvert_exporter": "python",
   "pygments_lexer": "ipython3",
   "version": "3.7.5"
  }
 },
 "nbformat": 4,
 "nbformat_minor": 4
}
