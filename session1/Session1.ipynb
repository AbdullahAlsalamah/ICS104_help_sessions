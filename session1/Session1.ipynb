{
 "cells": [
  {
   "cell_type": "code",
   "execution_count": 103,
   "metadata": {},
   "outputs": [],
   "source": [
    "from random import random"
   ]
  },
  {
   "cell_type": "markdown",
   "metadata": {},
   "source": [
    "<h1>Ch1</h1>"
   ]
  },
  {
   "cell_type": "markdown",
   "metadata": {},
   "source": [
    "<h3>Q1: Select from the following codes the ones will give an error (there might be more than one)</h3>\n",
    "<ul>\n",
    "    <li>print(\"Hello, world\")</li>\n",
    "    <li>print(\"Hello, world')</li>\n",
    "    <li>print(\"Hello, world\")</li>\n",
    "    <li>print('Hello, 'world'')</li>\n",
    "</ul>    "
   ]
  },
  {
   "cell_type": "markdown",
   "metadata": {},
   "source": [
    "<h3>Q2: Select from the following codes the ones will give an error (there might be more than one)</h3>\n",
    "<ul>\n",
    "    <li>print(\"Abdullah's Book\")</li>\n",
    "    <li>print(\"Hello, Word!\")</li>\n",
    "    <li>print(1/(5-5))</li>\n",
    "    <li>print(Abdullah's Book)</li>\n",
    "</ul>    "
   ]
  },
  {
   "cell_type": "markdown",
   "metadata": {},
   "source": [
    "<h3>Q3: What is the output of the following code</h3>\n",
    "<p>print(\"The answer is\", '5' + '3', \"!\")</p>\n",
    "<ul>\n",
    "    <li>The answer is 53 !</li>\n",
    "    <li>The answer is 8 !</li>\n",
    "    <li>The answer is 8!</li>\n",
    "    <li>Error</li>\n",
    "</ul>    "
   ]
  },
  {
   "cell_type": "markdown",
   "metadata": {},
   "source": [
    "<h3>Q4: What is the output of the following code</h3>\n",
    "<p>min((len(\"World.\"), 7, abs(-10), abs(-7), abs(-6), 8))</p>\n",
    "<ul>\n",
    "    <li>5</li>\n",
    "    <li>6</li>\n",
    "    <li>7</li>\n",
    "    <li>-10</li>    \n",
    "    <li>8</li>\n",
    "\n",
    "</ul>    "
   ]
  },
  {
   "cell_type": "markdown",
   "metadata": {},
   "source": [
    "<h3>Q5: What is the expected output</h3>\n",
    "<br>\n",
    "x = '5'\n",
    "<br>\n",
    "x += '3'\n",
    "<br>\n",
    "print(x)\n",
    "<ul>\n",
    "    <li>53</li>\n",
    "    <li>8</li>\n",
    "    <li>Error</li>\n",
    "    <li>35</li>\n",
    "</ul>"
   ]
  },
  {
   "cell_type": "markdown",
   "metadata": {},
   "source": [
    "<h3>Q6: What is the expected output</h3>\n",
    "<br>\n",
    "x = 3\n",
    "<br>\n",
    "x = x*1.0\n",
    "<br>\n",
    "print(x)\n",
    "<ul>\n",
    "    <li>3</li>\n",
    "    <li>3.0</li>\n",
    "    <li>0</li>\n",
    "    <li>Error</li>\n",
    "</ul>"
   ]
  },
  {
   "cell_type": "markdown",
   "metadata": {},
   "source": [
    "<h3>Q7: What is the expected output</h3>\n",
    "<br>\n",
    "print(1E6)\n",
    "<ul>\n",
    "    <li>1000000</li>\n",
    "    <li>1E6</li>\n",
    "    <li>1000000.0</li>\n",
    "    <li>Error</li>\n",
    "</ul>"
   ]
  },
  {
   "cell_type": "markdown",
   "metadata": {},
   "source": [
    "<h3>Q8: What is the expected output</h3>\n",
    "<br>\n",
    "print(100,000)\n",
    "<ul>\n",
    "    <li>100000</li>\n",
    "    <li>100,000</li>\n",
    "    <li>100 0</li>\n",
    "    <li>Error</li>\n",
    "</ul>"
   ]
  },
  {
   "cell_type": "markdown",
   "metadata": {},
   "source": [
    "<h3>Q9: What is the expected output</h3>\n",
    "<br>\n",
    "print(100,010)\n",
    "<ul>\n",
    "    <li>100010</li>\n",
    "    <li>100,010</li>\n",
    "    <li>100 10</li>\n",
    "    <li>Error</li>\n",
    "</ul>"
   ]
  },
  {
   "cell_type": "markdown",
   "metadata": {},
   "source": [
    "<h3>Q10: What is the expected output</h3>\n",
    "<br>\n",
    "print(3/(3/2))\n",
    "<ul>\n",
    "    <li>2</li>\n",
    "    <li>2.0</li>\n",
    "    <li>0.5</li>\n",
    "    <li>3</li>\n",
    "    <li>Error</li>\n",
    "</ul>"
   ]
  },
  {
   "cell_type": "markdown",
   "metadata": {},
   "source": [
    "<h3>Q11: What is the expected output</h3>\n",
    "<br>\n",
    "print(3+2*4.5//2**2)\n",
    "<ul>\n",
    "    <li>19.0</li>\n",
    "    <li>5.25</li>\n",
    "    <li>5.0</li>\n",
    "    <li>5</li>\n",
    "</ul>"
   ]
  },
  {
   "cell_type": "markdown",
   "metadata": {},
   "source": [
    "<h3>Q12: What is the expected output</h3>\n",
    "<br>\n",
    "print(7-(3+19//10)**2)\n",
    "<ul>\n",
    "    <li>3.0</li>\n",
    "    <li>3</li>\n",
    "    <li>-9.0</li>\n",
    "    <li>-9</li>\n",
    "</ul>"
   ]
  },
  {
   "cell_type": "markdown",
   "metadata": {},
   "source": [
    "<h3>Q13: What is the expected output</h3>\n",
    "<br>\n",
    "print(round(7.645,2))\n",
    "<ul>\n",
    "    <li>7.645</li>\n",
    "    <li>7.64</li>\n",
    "    <li>7.65</li>\n",
    "    <li>7.0</li>\n",
    "</ul>"
   ]
  },
  {
   "cell_type": "markdown",
   "metadata": {},
   "source": [
    "<h3>Q14: What is the expected output</h3>\n",
    "<br>\n",
    "print(\"KFU\",'PM')\n",
    "<ul>\n",
    "    <li>KFUPM</li>\n",
    "    <li>KFU PM</li>\n",
    "    <li>KFPM</li>\n",
    "    <li>Error</li>\n",
    "</ul>"
   ]
  },
  {
   "cell_type": "markdown",
   "metadata": {},
   "source": [
    "<h3>Q15: What is the expected output</h3>\n",
    "<br>\n",
    "print(\"KFUPM\"[-1])\n",
    "<ul>\n",
    "    <li>K</li>\n",
    "    <li>F</li>\n",
    "    <li>M</li>\n",
    "    <li>Error</li>\n",
    "</ul>"
   ]
  },
  {
   "cell_type": "markdown",
   "metadata": {},
   "source": [
    "<h3>Q16: What is the probability of printing ICS104 (assume random is imported)</h3>\n",
    "<br>\n",
    "if random() >= 0.4:\n",
    "<br>\n",
    "    <span style=\"margin-left:20px\">print(\"ICS104\")</span>\n",
    "<br>\n",
    "else:\n",
    "<br>\n",
    "    <span style=\"margin-left:20px\">print(\"NOTHING\")</span>\n",
    "  \n",
    "<ul>\n",
    "    <li>40%</li>\n",
    "    <li>60%</li>\n",
    "    <li>it always will print NOTHING</li>\n",
    "    <li>100%</li>\n",
    "</ul>"
   ]
  },
  {
   "cell_type": "markdown",
   "metadata": {},
   "source": [
    "<h3>Q17: What is the expected output</h3>\n",
    "<br>\n",
    "x = 101\n",
    "if 101%2 == 0:\n",
    "<br>\n",
    "    <span style=\"margin-left:20px\">print(\"Even number\")</span>\n",
    "    <br>\n",
    "    <span style=\"margin-left:25px\">print(\"Because it is divisible by 2\")</span>        \n",
    "<br>\n",
    "else:\n",
    "<br>\n",
    "    <span style=\"margin-left:20px\">print(\"Odd number\")</span> \n",
    "<ul>\n",
    "    <li>Even number <br>Because it is divisible by 2</li>\n",
    "    <li>Odd number</li>\n",
    "    <li>Will print nothing</li>\n",
    "    <li>Error</li>\n",
    "</ul>"
   ]
  },
  {
   "cell_type": "markdown",
   "metadata": {},
   "source": [
    "<h3>Q18: What is the expected output</h3>\n",
    "<br>\n",
    "x = 10\n",
    "<br>\n",
    "if x > 1:\n",
    "<br>\n",
    "    <span style=\"margin-left:20px\">x = x + 5</span></span>        \n",
    "<br>\n",
    "if x <= 15:\n",
    "<br>\n",
    "    <span style=\"margin-left:20px\">x = x + 10</span> \n",
    "<ul>\n",
    "    <li>10</li>\n",
    "    <li>15</li>\n",
    "    <li>20</li>\n",
    "    <li>25</li>\n",
    "</ul>"
   ]
  },
  {
   "cell_type": "markdown",
   "metadata": {},
   "source": [
    "<h3>Q19: Select all the code fragments that will print S10 (There might be more than one answer)</h3>\n",
    "<p>assume we have variable str = \"ICS104\"</p>\n",
    "<ul>\n",
    "    <li>str[2:4]</li>\n",
    "    <li>\n",
    "        x = 0\n",
    "        <br>\n",
    "        for i in str:\n",
    "        <br>\n",
    "        <span style=\"margin-left:20px\">if x &gt;= 2 and x &lt;= 4:</span> \n",
    "        <br>\n",
    "        <span style=\"margin-left:40px\">print(i)</span>\n",
    "        <br>\n",
    "        <span style=\"margin-left:20px\">x +=1</span> \n",
    "    </li>\n",
    "    <li>str[-4:-1]</li>\n",
    "    <li>\n",
    "        x = 0\n",
    "        <br>\n",
    "        for i in str:\n",
    "        <br>\n",
    "        <span style=\"margin-left:20px\">if x &gt;= 2 and x &lt;= 4:</span> \n",
    "        <br>\n",
    "        <span style=\"margin-left:40px\">print(i, end=\" \")</span>\n",
    "        <br>\n",
    "        <span style=\"margin-left:20px\">x +=1</span> \n",
    "    </li>\n",
    "</ul>"
   ]
  },
  {
   "cell_type": "markdown",
   "metadata": {},
   "source": [
    "<h3>Q20: What are the values of x and y at the end of the loop</h3>\n",
    "x = 0\n",
    "<br>\n",
    "y = 1\n",
    "<br>\n",
    "while x <= 10:\n",
    "<br>\n",
    "<span style=\"margin-left:20px\">if x%2==0:</span> \n",
    "<br>\n",
    "<span style=\"margin-left:40px\">y = y * 2</span>\n",
    "<br>\n",
    "<span style=\"margin-left:20px\">x += 1</span>\n",
    "<br>\n",
    "print(\"x = \", x)\n",
    "<br>\n",
    "print(\"y = \", y)\n",
    "<ul>\n",
    "    <li>x = 11 <br> y = 64</li>\n",
    "    <li>x = 10 <br> y = 64</li>\n",
    "    <li>x = 11 <br> y = 32</li>\n",
    "    <li>x = 10 <br> y = 32</li>\n",
    "</ul>"
   ]
  },
  {
   "cell_type": "markdown",
   "metadata": {},
   "source": [
    "<h3>Q21: What is the expected output</h3>\n",
    "<br>\n",
    "val1 = -8\n",
    "<br>\n",
    "val2 = \"-1\"\n",
    "<br>\n",
    "if not val2.isdigit():\n",
    "<br>\n",
    "<span style=\"margin-left:20px\">val2 = int(val2) + 1</span>\n",
    "<br>\n",
    "if val1 % 2 == 0 and val2 ==0:\n",
    "<br>\n",
    "    <span style=\"margin-left:20px\">print(\"Inside the if\")</span>        \n",
    "<br>\n",
    "print(\"Outside the if\")\n",
    "<ul>\n",
    "    <li>Inside the if</li>\n",
    "    <li>Outside the if</li>\n",
    "    <li>Inside the if<br>Outside the if</li>\n",
    "    <li>Error</li>\n",
    "</ul>"
   ]
  }
 ],
 "metadata": {
  "kernelspec": {
   "display_name": "Python 3",
   "language": "python",
   "name": "python3"
  },
  "language_info": {
   "codemirror_mode": {
    "name": "ipython",
    "version": 3
   },
   "file_extension": ".py",
   "mimetype": "text/x-python",
   "name": "python",
   "nbconvert_exporter": "python",
   "pygments_lexer": "ipython3",
   "version": "3.7.5"
  }
 },
 "nbformat": 4,
 "nbformat_minor": 4
}
